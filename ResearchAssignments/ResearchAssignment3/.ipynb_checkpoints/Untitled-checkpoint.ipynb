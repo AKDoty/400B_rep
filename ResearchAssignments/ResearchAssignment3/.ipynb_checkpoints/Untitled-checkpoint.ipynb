{
 "cells": [
  {
   "cell_type": "code",
   "execution_count": null,
   "id": "85ac963d-51af-4736-b1ec-2f7066406529",
   "metadata": {},
   "outputs": [],
   "source": [
    "'''\n",
    "Topic: How do galaxy interactions impact the morphological classification of galaxies?\n",
    "- Investigating galaxy evolution via tidal interactions (close encountrers)\n",
    "    - Seeing the effects of galactic merger on the disks and bulges of M31 & MW\n",
    "- \n",
    "\n",
    "\n",
    "\n",
    "\n",
    "- To do this, I will examine the evolution of M31 & the MW's stellar surface density \n",
    "    profiles, as the 2 are merging. \n",
    "- Will be answered \n",
    "\n",
    "\n",
    "\n",
    "\n",
    "\n",
    "\n",
    "\n",
    "'''"
   ]
  }
 ],
 "metadata": {
  "kernelspec": {
   "display_name": "Python 3 (ipykernel)",
   "language": "python",
   "name": "python3"
  },
  "language_info": {
   "codemirror_mode": {
    "name": "ipython",
    "version": 3
   },
   "file_extension": ".py",
   "mimetype": "text/x-python",
   "name": "python",
   "nbconvert_exporter": "python",
   "pygments_lexer": "ipython3",
   "version": "3.12.4"
  }
 },
 "nbformat": 4,
 "nbformat_minor": 5
}
