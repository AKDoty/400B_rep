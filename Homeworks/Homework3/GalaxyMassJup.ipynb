{
 "cells": [
  {
   "cell_type": "code",
   "execution_count": null,
   "id": "d531c04b-49c4-4036-8e0e-b38ada1115d7",
   "metadata": {},
   "outputs": [],
   "source": [
    "import numpy as np\n",
    "import astropy.units as u\n",
    "from ReadFile import Read\n",
    "#importing necessary packages\n",
    "\n",
    "def ComponentMass(filename, ptype):\n",
    "    '''\n",
    "    This program calculates and returns total mass of a specified galaxy component. \n",
    "    Inputs: filename -> file from nimoy data that we want data from\n",
    "            ptype -> particle type, input will be a number 1-3 corresponding to \n",
    "                    different objects (halo - 1, disk - 2, bulge - 3)\n",
    "    Outputs: total mass of component -> returns total mass [10^12 * Msun]\n",
    "      -> return using np.round(finalmass, 3)\n",
    "    '''\n",
    "    time, N, data = Read(filename)\n",
    "    #reading in info from file\n",
    "    "
   ]
  }
 ],
 "metadata": {
  "kernelspec": {
   "display_name": "Python 3 (ipykernel)",
   "language": "python",
   "name": "python3"
  },
  "language_info": {
   "codemirror_mode": {
    "name": "ipython",
    "version": 3
   },
   "file_extension": ".py",
   "mimetype": "text/x-python",
   "name": "python",
   "nbconvert_exporter": "python",
   "pygments_lexer": "ipython3",
   "version": "3.12.4"
  }
 },
 "nbformat": 4,
 "nbformat_minor": 5
}
