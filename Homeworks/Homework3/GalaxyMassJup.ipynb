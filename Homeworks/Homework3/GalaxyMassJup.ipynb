{
 "cells": [
  {
   "cell_type": "code",
   "execution_count": 39,
   "id": "d531c04b-49c4-4036-8e0e-b38ada1115d7",
   "metadata": {},
   "outputs": [
    {
     "name": "stdout",
     "output_type": "stream",
     "text": [
      "1.975\n",
      "1.921\n",
      "0.187\n",
      "0.075\n",
      "0.12\n",
      "0.009\n",
      "0.01\n",
      "0.019\n",
      "0.0\n"
     ]
    },
    {
     "ename": "TypeError",
     "evalue": "unsupported operand type(s) for +: 'NoneType' and 'NoneType'",
     "output_type": "error",
     "traceback": [
      "\u001b[0;31m---------------------------------------------------------------------------\u001b[0m",
      "\u001b[0;31mTypeError\u001b[0m                                 Traceback (most recent call last)",
      "Cell \u001b[0;32mIn[39], line 52\u001b[0m\n\u001b[1;32m     49\u001b[0m BM31 \u001b[38;5;241m=\u001b[39m ComponentMass(\u001b[38;5;124m\"\u001b[39m\u001b[38;5;124mM31_000.txt\u001b[39m\u001b[38;5;124m\"\u001b[39m, \u001b[38;5;241m3\u001b[39m)\n\u001b[1;32m     50\u001b[0m BM33 \u001b[38;5;241m=\u001b[39m ComponentMass(\u001b[38;5;124m\"\u001b[39m\u001b[38;5;124mM33_000.txt\u001b[39m\u001b[38;5;124m\"\u001b[39m, \u001b[38;5;241m3\u001b[39m)\n\u001b[0;32m---> 52\u001b[0m thalo \u001b[38;5;241m=\u001b[39m HMW \u001b[38;5;241m+\u001b[39m HM31 \u001b[38;5;241m+\u001b[39m HM33\n\u001b[1;32m     53\u001b[0m \u001b[38;5;28mprint\u001b[39m(thalo)\n",
      "\u001b[0;31mTypeError\u001b[0m: unsupported operand type(s) for +: 'NoneType' and 'NoneType'"
     ]
    }
   ],
   "source": [
    "import numpy as np\n",
    "import astropy.units as u\n",
    "from ReadFile import Read\n",
    "#importing necessary packages\n",
    "\n",
    "def ComponentMass(filename, ptype):\n",
    "    '''\n",
    "    This program calculates and returns total mass of a specified galaxy component. \n",
    "    Inputs: filename -> (file), file from nimoy data that we want data from\n",
    "            ptype -> (number) particle type, input will be a number 1-3 corresponding to \n",
    "                    different objects (halo - 1, disk - 2, bulge - 3)\n",
    "    Outputs: total mass of component (astropy quantity) -> returns total mass [10^12 * Msun]\n",
    "    '''\n",
    "    \n",
    "    time, N, data = Read(filename)\n",
    "    #reading in info from file'\n",
    "    \n",
    "    index = np.where(data['type'] == ptype)\n",
    "    #Creating index representing 'type', input will be 1-3\n",
    "    \n",
    "    mass = data['m'][index]*10**(-2)\n",
    "    #Fetching mass component from data, converting to 10^12 * Msun\n",
    "\n",
    "    finalmass = np.sum(mass)\n",
    "    #Summing all masses over particular type\n",
    "\n",
    "        \n",
    "    print(np.round(finalmass, 3))\n",
    "    #Printing final mass, rounding to 3 figures\n",
    "\n",
    "    #return finalmass\n",
    "\n",
    "\n",
    "#Calling our various values for the table! Each section is set up as\n",
    "#MW_000.txt first, M31_000.txt second, and M33_000.txt third\n",
    "\n",
    "#Calling haloes:\n",
    "HMW = ComponentMass(\"MW_000.txt\", 1)\n",
    "HM31 = ComponentMass(\"M31_000.txt\", 1)\n",
    "HM33 = ComponentMass(\"M33_000.txt\", 1)\n",
    "\n",
    "#Calling disks:\n",
    "DMW = ComponentMass(\"MW_000.txt\", 2)\n",
    "DM31 = ComponentMass(\"M31_000.txt\", 2)\n",
    "DM33 = ComponentMass(\"M33_000.txt\", 2)\n",
    "\n",
    "#Calling bulges:\n",
    "BMW = ComponentMass(\"MW_000.txt\", 3)\n",
    "BM31 = ComponentMass(\"M31_000.txt\", 3)\n",
    "BM33 = ComponentMass(\"M33_000.txt\", 3)"
   ]
  },
  {
   "cell_type": "code",
   "execution_count": null,
   "id": "6b68aa49-4087-4ea2-852f-714c0073d4c9",
   "metadata": {},
   "outputs": [],
   "source": []
  }
 ],
 "metadata": {
  "kernelspec": {
   "display_name": "Python 3 (ipykernel)",
   "language": "python",
   "name": "python3"
  },
  "language_info": {
   "codemirror_mode": {
    "name": "ipython",
    "version": 3
   },
   "file_extension": ".py",
   "mimetype": "text/x-python",
   "name": "python",
   "nbconvert_exporter": "python",
   "pygments_lexer": "ipython3",
   "version": "3.12.4"
  }
 },
 "nbformat": 4,
 "nbformat_minor": 5
}
