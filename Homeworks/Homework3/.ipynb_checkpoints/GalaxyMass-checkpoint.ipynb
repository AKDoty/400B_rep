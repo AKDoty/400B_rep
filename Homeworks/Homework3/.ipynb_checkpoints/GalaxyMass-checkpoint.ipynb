{
 "cells": [
  {
   "cell_type": "code",
   "execution_count": 41,
   "id": "d531c04b-49c4-4036-8e0e-b38ada1115d7",
   "metadata": {},
   "outputs": [
    {
     "name": "stdout",
     "output_type": "stream",
     "text": [
      "1.975\n",
      "1.921\n",
      "0.187\n",
      "0.075\n",
      "0.12\n",
      "0.009\n",
      "0.01\n",
      "0.019\n",
      "0.0\n"
     ]
    }
   ],
   "source": [
    "import numpy as np\n",
    "import astropy.units as u\n",
    "from ReadFile import Read\n",
    "#importing necessary packages\n",
    "\n",
    "def ComponentMass(filename, ptype):\n",
    "    '''\n",
    "    This program calculates and returns total mass of a specified galaxy component. \n",
    "    Inputs: filename -> (file), file from nimoy data that we want data from\n",
    "            ptype -> (number) particle type, input will be a number 1-3 corresponding to \n",
    "                    different objects (halo - 1, disk - 2, bulge - 3)\n",
    "    Outputs: total mass of component (astropy quantity) -> returns total mass [10^12 * Msun]\n",
    "    '''\n",
    "    \n",
    "    time, N, data = Read(filename)\n",
    "    #reading in info from file'\n",
    "    \n",
    "    index = np.where(data['type'] == ptype)\n",
    "    #Creating index representing 'type', input will be 1-3\n",
    "    \n",
    "    mass = data['m'][index]*10**(-2)\n",
    "    #Fetching mass component from data, converting to 10^12 * Msun\n",
    "\n",
    "    finalmass = np.sum(mass)\n",
    "    #Summing all masses over particular type\n",
    "        \n",
    "    print(np.round(finalmass, 3))\n",
    "    #Printing final mass, rounding to 3 figures\n",
    "\n",
    "    return finalmass\n",
    "\n",
    "#Calling our various values for the table! Each section is set up as\n",
    "#MW_000.txt first, M31_000.txt second, and M33_000.txt third\n",
    "\n",
    "#Calling haloes:\n",
    "HMW = ComponentMass(\"MW_000.txt\", 1)\n",
    "HM31 = ComponentMass(\"M31_000.txt\", 1)\n",
    "HM33 = ComponentMass(\"M33_000.txt\", 1)\n",
    "\n",
    "#Calling disks:\n",
    "DMW = ComponentMass(\"MW_000.txt\", 2)\n",
    "DM31 = ComponentMass(\"M31_000.txt\", 2)\n",
    "DM33 = ComponentMass(\"M33_000.txt\", 2)\n",
    "\n",
    "#Calling bulges:\n",
    "BMW = ComponentMass(\"MW_000.txt\", 3)\n",
    "BM31 = ComponentMass(\"M31_000.txt\", 3)\n",
    "BM33 = ComponentMass(\"M33_000.txt\", 3)"
   ]
  }
 ],
 "metadata": {
  "kernelspec": {
   "display_name": "Python 3 (ipykernel)",
   "language": "python",
   "name": "python3"
  },
  "language_info": {
   "codemirror_mode": {
    "name": "ipython",
    "version": 3
   },
   "file_extension": ".py",
   "mimetype": "text/x-python",
   "name": "python",
   "nbconvert_exporter": "python",
   "pygments_lexer": "ipython3",
   "version": "3.12.4"
  }
 },
 "nbformat": 4,
 "nbformat_minor": 5
}
