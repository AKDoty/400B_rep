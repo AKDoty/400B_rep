{
 "cells": [
  {
   "cell_type": "code",
   "execution_count": 24,
   "metadata": {},
   "outputs": [],
   "source": [
    "# In Class Lab 9\n",
    "\n",
    "# G. Besla \n",
    "# with code from R. Hoffman, R. Li and E Patel\n",
    "\n",
    "\n",
    "# import modules\n",
    "import numpy as np\n",
    "import astropy.units as u\n",
    "from astropy.constants import G\n",
    "\n",
    "# import plotting modules\n",
    "import matplotlib\n",
    "import matplotlib.pyplot as plt\n",
    "from matplotlib.colors import LogNorm\n",
    "\n",
    "# my modules\n",
    "from ReadFile import Read\n",
    "from CenterOfMass import CenterOfMass\n",
    "from MassProfile import MassProfile\n",
    "\n",
    "# for contours\n",
    "import scipy.optimize as so\n"
   ]
  },
  {
   "cell_type": "markdown",
   "metadata": {},
   "source": [
    "# Lab 9   Contour Plots and Spiral Arms\n",
    "\n",
    "In this lab you will extend Lab 7 to:\n",
    "\n",
    "1) Using High Res Data Files \n",
    "\n",
    "2) Adding Vcirc in cylindrical coords\n",
    "\n",
    "3) Tracking particles across snapshots\n",
    "\n",
    "4) Velocity Dispersion and Msigma Relation\n"
   ]
  },
  {
   "cell_type": "code",
   "execution_count": 26,
   "metadata": {},
   "outputs": [],
   "source": [
    "# Code for plotting contours\n",
    "#from https://gist.github.com/adrn/3993992\n",
    "\n",
    "\n",
    "def find_confidence_interval(x, pdf, confidence_level):\n",
    "    return pdf[pdf > x].sum() - confidence_level\n",
    "\n",
    "# Info about **kwargs, *args \n",
    "#https://book.pythontips.com/en/latest/args_and_kwargs.html\n",
    "\n",
    "def density_contour(xdata, ydata, nbins_x, nbins_y, ax=None, **contour_kwargs):\n",
    "    \"\"\" Create a density contour plot.\n",
    "    Parameters\n",
    "    ----------\n",
    "    xdata : numpy.ndarray\n",
    "    ydata : numpy.ndarray\n",
    "    nbins_x : int\n",
    "        Number of bins along x dimension\n",
    "    nbins_y : int\n",
    "        Number of bins along y dimension\n",
    "    ax : matplotlib.Axes (optional)\n",
    "        If supplied, plot the contour to this axis. Otherwise, open a new figure\n",
    "    contour_kwargs : dict\n",
    "        kwargs to be passed to pyplot.contour()\n",
    "        i.e. unknown number of keywords \n",
    "        \n",
    "    Example Usage\n",
    "    -------------\n",
    "     density_contour(x pos, y pos, contour res, contour res, axis, colors for contours)\n",
    "     e.g.:\n",
    "     density_contour(xD, yD, 80, 80, ax=ax, \n",
    "             colors=['red','orange', 'yellow', 'orange', 'yellow'])\n",
    "\n",
    "    \"\"\"\n",
    "\n",
    "    H, xedges, yedges = np.histogram2d(xdata, ydata, bins=(nbins_x,nbins_y), normed=True)\n",
    "    # NOTE : if you are using the latest version of python, in the above: \n",
    "    # instead of normed=True, use density=True\n",
    "    \n",
    "    x_bin_sizes = (xedges[1:] - xedges[:-1]).reshape((1,nbins_x))\n",
    "    y_bin_sizes = (yedges[1:] - yedges[:-1]).reshape((nbins_y,1))\n",
    "\n",
    "    pdf = (H*(x_bin_sizes*y_bin_sizes))  \n",
    "    \n",
    "    X, Y = 0.5*(xedges[1:]+xedges[:-1]), 0.5*(yedges[1:]+yedges[:-1])\n",
    "    Z = pdf.T  # transpose of distribution fxn\n",
    "    fmt = {}\n",
    "    \n",
    "    ### Adjust Here #### \n",
    "    \n",
    "    # Contour Levels Definitions\n",
    "    one_sigma = so.brentq(find_confidence_interval, 0., 1., args=(pdf, 0.68))\n",
    "    #brentq is root finding method\n",
    "    two_sigma = so.brentq(find_confidence_interval, 0., 1., args=(pdf, 0.95))\n",
    "    three_sigma = so.brentq(find_confidence_interval, 0., 1., args=(pdf, 0.99))\n",
    "    \n",
    "    # You might need to add a few levels\n",
    "    # I added a few between 1 and 2 sigma to better highlight the spiral arm\n",
    "    one_sigma1 = so.brentq(find_confidence_interval, 0., 1., args=(pdf, 0.80))\n",
    "    one_sigma2 = so.brentq(find_confidence_interval, 0., 1., args=(pdf, 0.90))\n",
    "\n",
    "    # Array of Contour levels. Adjust according to the above\n",
    "    levels = [one_sigma, one_sigma1, one_sigma2, two_sigma, three_sigma][::-1]\n",
    "    \n",
    "    # contour level labels  Adjust accoding to the above.\n",
    "    strs = ['0.68', '0.8','0.9','0.95', '0.99'][::-1]\n",
    "\n",
    "    \n",
    "    ###### \n",
    "    \n",
    "    if ax == None:\n",
    "        contour = plt.contour(X, Y, Z, levels=levels, origin=\"lower\", **contour_kwargs)\n",
    "        for l, s in zip(contour.levels, strs):\n",
    "            fmt[l] = s\n",
    "        plt.clabel(contour, contour.levels, inline=True, fmt=fmt, fontsize=12)\n",
    "\n",
    "    else:\n",
    "        contour = ax.contour(X, Y, Z, levels=levels, origin=\"lower\", **contour_kwargs)\n",
    "        for l, s in zip(contour.levels, strs):\n",
    "            fmt[l] = s\n",
    "        ax.clabel(contour, contour.levels, inline=True, fmt=fmt, fontsize=12)\n",
    "    \n",
    "    return contour"
   ]
  },
  {
   "cell_type": "markdown",
   "metadata": {},
   "source": [
    "Use the CenterOfMass code to compute the positions and velocities of all particles in M31's disk relative to its center of mass position and motion."
   ]
  },
  {
   "cell_type": "code",
   "execution_count": 28,
   "metadata": {},
   "outputs": [],
   "source": [
    "# Create a COM of object for M31 Disk (particle type=2) Using Code from Homework 4\n",
    "# Change this to the HighRes File if you can\n",
    "COMD = CenterOfMass(\"M31_000.txt\",2)"
   ]
  },
  {
   "cell_type": "code",
   "execution_count": 29,
   "metadata": {},
   "outputs": [],
   "source": [
    "# Compute COM of M31 using disk particles\n",
    "COMP = COMD.COM_P(0.1)\n",
    "COMV = COMD.COM_V(COMP[0],COMP[1],COMP[2])"
   ]
  },
  {
   "cell_type": "code",
   "execution_count": 30,
   "metadata": {},
   "outputs": [],
   "source": [
    "# Determine positions of disk particles relative to COM \n",
    "xD = COMD.x - COMP[0].value \n",
    "yD = COMD.y - COMP[1].value \n",
    "zD = COMD.z - COMP[2].value \n",
    "\n",
    "# total magnitude\n",
    "rtot = np.sqrt(xD**2 + yD**2 + zD**2)\n",
    "\n",
    "# Determine velocities of disk particles relatiev to COM motion\n",
    "vxD = COMD.vx - COMV[0].value \n",
    "vyD = COMD.vy - COMV[1].value \n",
    "vzD = COMD.vz - COMV[2].value \n",
    "\n",
    "# total velocity \n",
    "vtot = np.sqrt(vxD**2 + vyD**2 + vzD**2)\n",
    "\n",
    "# Arrays for r and v \n",
    "r = np.array([xD,yD,zD]).T # transposed for the Rotate Function later\n",
    "v = np.array([vxD,vyD,vzD]).T"
   ]
  },
  {
   "cell_type": "markdown",
   "metadata": {},
   "source": [
    "# Part A\n",
    "\n",
    "Utilize the below code to rotate the M31 disk and plot it edge on and face on.\n",
    "\n",
    "What is the sense of rotation of M31 ? "
   ]
  },
  {
   "cell_type": "code",
   "execution_count": 32,
   "metadata": {},
   "outputs": [],
   "source": [
    "\n",
    "def RotateFrame(posI,velI):\n",
    "    \"\"\"a function that will rotate the position and velocity vectors\n",
    "    so that the disk angular momentum is aligned with z axis. \n",
    "    \n",
    "    PARAMETERS\n",
    "    ----------\n",
    "        posI : `array of floats`\n",
    "             3D array of positions (x,y,z)\n",
    "        velI : `array of floats`\n",
    "             3D array of velocities (vx,vy,vz)\n",
    "             \n",
    "    RETURNS\n",
    "    -------\n",
    "        pos: `array of floats`\n",
    "            rotated 3D array of positions (x,y,z) \n",
    "            such that disk is in the XY plane\n",
    "        vel: `array of floats`\n",
    "            rotated 3D array of velocities (vx,vy,vz) \n",
    "            such that disk angular momentum vector\n",
    "            is in the +z direction \n",
    "    \"\"\"\n",
    "    \n",
    "    # compute the angular momentum\n",
    "    L = np.sum(np.cross(posI,velI), axis=0)\n",
    "    \n",
    "    # normalize the angular momentum vector\n",
    "    L_norm = L/np.sqrt(np.sum(L**2))\n",
    "\n",
    "\n",
    "    # Set up rotation matrix to map L_norm to z unit vector \n",
    "    # (disk in xy-plane)\n",
    "    \n",
    "    # z unit vector\n",
    "    z_norm = np.array([0, 0, 1])\n",
    "    \n",
    "    # cross product between L and z\n",
    "    vv = np.cross(L_norm, z_norm)\n",
    "    s = np.sqrt(np.sum(vv**2))\n",
    "    \n",
    "    # dot product between L and z \n",
    "    c = np.dot(L_norm, z_norm)\n",
    "    \n",
    "    # rotation matrix\n",
    "    I = np.array([[1, 0, 0], [0, 1, 0], [0, 0, 1]])\n",
    "    v_x = np.array([[0, -vv[2], vv[1]], [vv[2], 0, -vv[0]], [-vv[1], vv[0], 0]])\n",
    "    R = I + v_x + np.dot(v_x, v_x)*(1 - c)/s**2\n",
    "\n",
    "    # Rotate coordinate system\n",
    "    pos = np.dot(R, posI.T).T\n",
    "    vel = np.dot(R, velI.T).T\n",
    "    \n",
    "    return pos, vel\n"
   ]
  },
  {
   "cell_type": "code",
   "execution_count": 33,
   "metadata": {},
   "outputs": [],
   "source": [
    "\n",
    "# compute the rotated position and velocity vectors\n",
    "rn, vn = RotateFrame(r,v)\n"
   ]
  },
  {
   "cell_type": "code",
   "execution_count": 34,
   "metadata": {},
   "outputs": [
    {
     "ename": "TypeError",
     "evalue": "histogram2d() got an unexpected keyword argument 'normed'",
     "output_type": "error",
     "traceback": [
      "\u001b[0;31m---------------------------------------------------------------------------\u001b[0m",
      "\u001b[0;31mTypeError\u001b[0m                                 Traceback (most recent call last)",
      "Cell \u001b[0;32mIn[34], line 28\u001b[0m\n\u001b[1;32m     24\u001b[0m matplotlib\u001b[38;5;241m.\u001b[39mrcParams[\u001b[38;5;124m'\u001b[39m\u001b[38;5;124mytick.labelsize\u001b[39m\u001b[38;5;124m'\u001b[39m] \u001b[38;5;241m=\u001b[39m label_size\n\u001b[1;32m     26\u001b[0m \u001b[38;5;66;03m# make the contour plot\u001b[39;00m\n\u001b[1;32m     27\u001b[0m \u001b[38;5;66;03m# x pos, y pos, contour res, contour res, axis, colors for contours.\u001b[39;00m\n\u001b[0;32m---> 28\u001b[0m density_contour(rn[:,\u001b[38;5;241m0\u001b[39m], rn[:,\u001b[38;5;241m1\u001b[39m], \u001b[38;5;241m80\u001b[39m, \u001b[38;5;241m80\u001b[39m, ax\u001b[38;5;241m=\u001b[39max, \n\u001b[1;32m     29\u001b[0m                 colors\u001b[38;5;241m=\u001b[39m[\u001b[38;5;124m'\u001b[39m\u001b[38;5;124mred\u001b[39m\u001b[38;5;124m'\u001b[39m,\u001b[38;5;124m'\u001b[39m\u001b[38;5;124mwhite\u001b[39m\u001b[38;5;124m'\u001b[39m, \u001b[38;5;124m'\u001b[39m\u001b[38;5;124mwhite\u001b[39m\u001b[38;5;124m'\u001b[39m, \u001b[38;5;124m'\u001b[39m\u001b[38;5;124mwhite\u001b[39m\u001b[38;5;124m'\u001b[39m, \u001b[38;5;124m'\u001b[39m\u001b[38;5;124mwhite\u001b[39m\u001b[38;5;124m'\u001b[39m])\n",
      "Cell \u001b[0;32mIn[26], line 36\u001b[0m, in \u001b[0;36mdensity_contour\u001b[0;34m(xdata, ydata, nbins_x, nbins_y, ax, **contour_kwargs)\u001b[0m\n\u001b[1;32m     11\u001b[0m \u001b[38;5;28;01mdef\u001b[39;00m \u001b[38;5;21mdensity_contour\u001b[39m(xdata, ydata, nbins_x, nbins_y, ax\u001b[38;5;241m=\u001b[39m\u001b[38;5;28;01mNone\u001b[39;00m, \u001b[38;5;241m*\u001b[39m\u001b[38;5;241m*\u001b[39mcontour_kwargs):\n\u001b[1;32m     12\u001b[0m \u001b[38;5;250m    \u001b[39m\u001b[38;5;124;03m\"\"\" Create a density contour plot.\u001b[39;00m\n\u001b[1;32m     13\u001b[0m \u001b[38;5;124;03m    Parameters\u001b[39;00m\n\u001b[1;32m     14\u001b[0m \u001b[38;5;124;03m    ----------\u001b[39;00m\n\u001b[0;32m   (...)\u001b[0m\n\u001b[1;32m     33\u001b[0m \n\u001b[1;32m     34\u001b[0m \u001b[38;5;124;03m    \"\"\"\u001b[39;00m\n\u001b[0;32m---> 36\u001b[0m     H, xedges, yedges \u001b[38;5;241m=\u001b[39m np\u001b[38;5;241m.\u001b[39mhistogram2d(xdata, ydata, bins\u001b[38;5;241m=\u001b[39m(nbins_x,nbins_y), normed\u001b[38;5;241m=\u001b[39m\u001b[38;5;28;01mTrue\u001b[39;00m)\n\u001b[1;32m     37\u001b[0m     \u001b[38;5;66;03m# NOTE : if you are using the latest version of python, in the above: \u001b[39;00m\n\u001b[1;32m     38\u001b[0m     \u001b[38;5;66;03m# instead of normed=True, use density=True\u001b[39;00m\n\u001b[1;32m     40\u001b[0m     x_bin_sizes \u001b[38;5;241m=\u001b[39m (xedges[\u001b[38;5;241m1\u001b[39m:] \u001b[38;5;241m-\u001b[39m xedges[:\u001b[38;5;241m-\u001b[39m\u001b[38;5;241m1\u001b[39m])\u001b[38;5;241m.\u001b[39mreshape((\u001b[38;5;241m1\u001b[39m,nbins_x))\n",
      "\u001b[0;31mTypeError\u001b[0m: histogram2d() got an unexpected keyword argument 'normed'"
     ]
    },
    {
     "data": {
      "image/png": "[encoded data removed]",
      "text/plain": [
       "<Figure size 1200x1000 with 2 Axes>"
      ]
     },
     "metadata": {},
     "output_type": "display_data"
    }
   ],
   "source": [
    "# Rotated M31 Disk - FACE ON\n",
    "\n",
    "# M31 Disk Density \n",
    "fig, ax= plt.subplots(figsize=(12, 10))\n",
    "\n",
    "# plot the particle density for M31 \n",
    "# Change the bin number if M31 is the high res version \n",
    "plt.hist2d(rn[:,0], rn[:,1], bins=200, norm=LogNorm(), cmap='magma')\n",
    "cbar = plt.colorbar()\n",
    "cbar.set_label(\"Number of disk particle per bin\", fontsize=15)\n",
    "\n",
    "\n",
    "# Add axis labels\n",
    "plt.xlabel('x (kpc)', fontsize=22)\n",
    "plt.ylabel('y (kpc)', fontsize=22)\n",
    "\n",
    "#set axis limits\n",
    "plt.ylim(-40,40)\n",
    "plt.xlim(-40,40)\n",
    "\n",
    "#adjust tick label font size\n",
    "label_size = 22\n",
    "matplotlib.rcParams['xtick.labelsize'] = label_size \n",
    "matplotlib.rcParams['ytick.labelsize'] = label_size\n",
    "\n",
    "# make the contour plot\n",
    "# x pos, y pos, contour res, contour res, axis, colors for contours.\n",
    "density_contour(rn[:,0], rn[:,1], 80, 80, ax=ax, \n",
    "                colors=['red','white', 'white', 'white', 'white'])\n",
    "\n",
    "#plt.savefig('Lab9_FaceOn_Density.png')"
   ]
  },
  {
   "cell_type": "markdown",
   "metadata": {},
   "source": [
    "If the arms are trailing, then the disk should be rotating towards  NEGATIVE Y  along NEGATIVE X  (CCW)\n",
    "\n",
    "you could compute the pitch angle of the spiral arm by comparing to a circular orbit at the tangent point"
   ]
  },
  {
   "cell_type": "markdown",
   "metadata": {},
   "source": [
    "# Part B : Kinematics"
   ]
  },
  {
   "cell_type": "code",
   "execution_count": null,
   "metadata": {},
   "outputs": [],
   "source": [
    "# a)  Create a mass profile object for the Milky Way\n",
    "# using solution to Homework 5\n",
    "M31 = MassProfile(\"M31\",0)"
   ]
  },
  {
   "cell_type": "code",
   "execution_count": null,
   "metadata": {},
   "outputs": [],
   "source": [
    "# define an array of radii\n",
    "r = np.arange(0.01,40,0.1)"
   ]
  },
  {
   "cell_type": "code",
   "execution_count": null,
   "metadata": {},
   "outputs": [],
   "source": [
    "# Create the circular velocity profile\n",
    "Vcirc = M31.circularVelocityTotal(r)"
   ]
  },
  {
   "cell_type": "code",
   "execution_count": null,
   "metadata": {},
   "outputs": [],
   "source": [
    "# Make a phase diagram\n",
    "# MW Disk Velocity Field edge on.\n",
    "\n",
    "fig = plt.figure(figsize=(12,10))\n",
    "ax = plt.subplot(111)\n",
    "\n",
    "# looking at MW edge on along x axis, vy is line of sight velocity\n",
    "\n",
    "# Change bin number if high res files\n",
    "plt.hist2d(rn[:,0], vn[:,1], bins=200, norm=LogNorm())\n",
    "plt.colorbar()\n",
    "\n",
    "# Add the circular velocity\n",
    "plt.plot(r, Vcirc, color=\"red\")\n",
    "plt.plot(-r, -Vcirc, color=\"red\")\n",
    "\n",
    "# Add axis labels\n",
    "plt.xlabel('x (kpc)', fontsize=22)\n",
    "plt.ylabel('Velocity Y Direction (km/s)', fontsize=22)\n",
    "\n",
    "#set axis limits\n",
    "#plt.ylim(0,200)\n",
    "#plt.xlim(-30,30)\n",
    "\n",
    "#adjust tick label font size\n",
    "label_size = 22\n",
    "matplotlib.rcParams['xtick.labelsize'] = label_size \n",
    "matplotlib.rcParams['ytick.labelsize'] = label_size\n",
    "\n",
    "\n",
    "# Save file\n",
    "# plt.savefig('Lab9_RotationCurve.png')\n"
   ]
  },
  {
   "cell_type": "markdown",
   "metadata": {},
   "source": [
    "# Modifying the above: $V_\\phi$"
   ]
  },
  {
   "cell_type": "code",
   "execution_count": null,
   "metadata": {},
   "outputs": [],
   "source": [
    "# velocity in cylindrical coordinates. \n",
    "\n",
    "# radius \n",
    "rho = np.sqrt(rn[:,0]**2 + rn[:,1]**2) \n",
    "\n",
    "# radial velocity \n",
    "vr = (rn[:,0] * vn[:,0] + rn[:,1] * vn[:,1]) / rho\n",
    "\n",
    "# azimuthal velocity\n",
    "vphi = (rn[:,0] *  vn[:,1] - rn[:,1] * vn[:,0]) / rho\n",
    "\n"
   ]
  },
  {
   "cell_type": "code",
   "execution_count": null,
   "metadata": {},
   "outputs": [],
   "source": [
    "# Determine the mean vphi per radius\n",
    "\n",
    "# Initialize Array for Radius 0-40 kpc\n",
    "\n",
    "# Initialize Empty Array for Velocity \n",
    "# (same size as radial array)\n",
    "\n"
   ]
  },
  {
   "cell_type": "code",
   "execution_count": null,
   "metadata": {},
   "outputs": [],
   "source": [
    "# compute the mean vphi in radial bins\n"
   ]
  },
  {
   "cell_type": "code",
   "execution_count": null,
   "metadata": {},
   "outputs": [],
   "source": [
    "# Make a phase diagram\n",
    "# MW Disk Velocity Field edge on.\n",
    "\n",
    "fig = plt.figure(figsize=(12,10))\n",
    "ax = plt.subplot(111)\n",
    "\n",
    "# looking at MW edge on along x axis, vy is line of sight velocity\n",
    "\n",
    "# Plot the circular speed using vphi\n",
    "\n",
    "\n",
    "# Add the circular velocity\n",
    "plt.plot(r, Vcirc, color=\"red\")\n",
    "\n",
    "\n",
    "# Add the mean vphi velocity\n",
    "\n",
    "\n",
    "# Add axis labels\n",
    "plt.xlabel('R (kpc)', fontsize=22)\n",
    "plt.ylabel(r'v$_\\phi$ (km/s)', fontsize=22)\n",
    "\n",
    "\n",
    "#adjust tick label font size\n",
    "label_size = 22\n",
    "matplotlib.rcParams['xtick.labelsize'] = label_size \n",
    "matplotlib.rcParams['ytick.labelsize'] = label_size\n",
    "\n",
    "\n",
    "# Save file\n",
    "# plt.savefig('Lab9_RotationCurve_Vphi.png')\n"
   ]
  },
  {
   "cell_type": "markdown",
   "metadata": {},
   "source": [
    "The mean cylindrical vphi deviates in the inner regions from the mass-derived rotation curve because of the bar. "
   ]
  },
  {
   "cell_type": "markdown",
   "metadata": {},
   "source": [
    "# Part C exploring Spiral Structure"
   ]
  },
  {
   "cell_type": "code",
   "execution_count": null,
   "metadata": {},
   "outputs": [],
   "source": [
    "# Determine the positions of the disk particles in \n",
    "# cylindrical coordinates. \n",
    "cyl_r = np.sqrt(rn[:,0]**2 + rn[:,1]**2) # radial\n",
    "cyl_theta = np.arctan2(rn[:,1],rn[:,0])*180/np.pi # theta in degrees"
   ]
  },
  {
   "cell_type": "code",
   "execution_count": null,
   "metadata": {},
   "outputs": [],
   "source": [
    "# Make a phase diagram\n",
    "# R vs Theta\n",
    "\n",
    "fig = plt.figure(figsize=(10,10))\n",
    "ax = plt.subplot(111)\n",
    "\n",
    "# looking at MW edge on along x axis, vy is line of sight velocity\n",
    "\n",
    "plt.hist2d(cyl_r, cyl_theta, bins=150, norm=LogNorm())\n",
    "plt.colorbar()\n",
    "\n",
    "\n",
    "# Add axis labels\n",
    "plt.xlabel('R (kpc)', fontsize=22)\n",
    "plt.ylabel(r'$\\theta$ [deg]', fontsize=22)\n",
    "\n",
    "\n",
    "# make the contour plot\n",
    "# x pos, y pos, contour res, contour res, axis, colors for contours.\n",
    "density_contour(cyl_r, cyl_theta, 50, 50, ax=ax, \n",
    "                colors=['red','white', 'white', 'white', 'magenta'])\n",
    "\n",
    "\n",
    "#set axis limits\n",
    "#plt.ylim(0,200)\n",
    "#plt.xlim(-30,30)\n",
    "\n",
    "#adjust tick label font size\n",
    "label_size = 22\n",
    "matplotlib.rcParams['xtick.labelsize'] = label_size \n",
    "matplotlib.rcParams['ytick.labelsize'] = label_size\n",
    "\n",
    "\n",
    "# Save file\n",
    "#plt.savefig('Lab9_SpiralPhase.png')\n"
   ]
  },
  {
   "cell_type": "markdown",
   "metadata": {},
   "source": [
    "# Part D:  Tracing Particles Across Different Snapshots\n",
    "\n",
    "Trace particles from M31's bar in snap 0 to snap 5"
   ]
  },
  {
   "cell_type": "code",
   "execution_count": null,
   "metadata": {},
   "outputs": [],
   "source": [
    "# Create a COM of object for M31 Disk (particle type=2) Using Code from Homework 4\n",
    "# Load in Snapshot 5\n",
    "COMD_5 = CenterOfMass(\"M31_005.txt\",2)"
   ]
  },
  {
   "cell_type": "code",
   "execution_count": null,
   "metadata": {},
   "outputs": [],
   "source": [
    "# Compute COM of M31 using disk particles\n",
    "COMP_5 = COMD_5.COM_P(0.1)\n",
    "COMV_5 = COMD_5.COM_V(COMP_5[0],COMP_5[1],COMP_5[2])"
   ]
  },
  {
   "cell_type": "code",
   "execution_count": null,
   "metadata": {},
   "outputs": [],
   "source": [
    "# Determine positions of disk particles relative to COM \n",
    "xD_5 = COMD_5.x - COMP_5[0].value \n",
    "yD_5 = COMD_5.y - COMP_5[1].value \n",
    "zD_5 = COMD_5.z - COMP_5[2].value \n",
    "\n",
    "# total magnitude\n",
    "rtot_5 = np.sqrt(xD_5**2 + yD_5**2 + zD_5**2)\n",
    "\n",
    "# Determine velocities of disk particles relatiev to COM motion\n",
    "vxD_5 = COMD_5.vx - COMV_5[0].value \n",
    "vyD_5 = COMD_5.vy - COMV_5[1].value \n",
    "vzD_5 = COMD_5.vz - COMV_5[2].value \n",
    "\n",
    "# total velocity \n",
    "vtot_5 = np.sqrt(vxD_5**2 + vyD_5**2 + vzD_5**2)\n",
    "\n",
    "# Arrays for r and v \n",
    "r_5 = np.array([xD_5,yD_5,zD_5]).T # transposed for the Rotate Function later\n",
    "v_5 = np.array([vxD_5,vyD_5,vzD_5]).T"
   ]
  },
  {
   "cell_type": "code",
   "execution_count": null,
   "metadata": {},
   "outputs": [],
   "source": [
    "# compute the rotated position and velocity vectors\n"
   ]
  },
  {
   "cell_type": "code",
   "execution_count": null,
   "metadata": {},
   "outputs": [],
   "source": [
    "# Identify bar particles in Snap 0\n"
   ]
  },
  {
   "cell_type": "code",
   "execution_count": null,
   "metadata": {},
   "outputs": [],
   "source": [
    "# Compare the Disk Structure At Snapshot0 to Snapshot 5\n",
    "# Overplot the Bar Particles\n",
    "    \n",
    "fig,ax = plt.subplots(nrows=1, ncols=2, figsize=(25,10))    \n",
    "        #   ax[0] for Snap 0\n",
    "        #   ax[1] for Snap 5 \n",
    "  \n",
    "\n",
    "# Snapshot 0 \n",
    "\n",
    "ax[0].hist2d(rn[:,0], rn[:,1], bins=200, norm=LogNorm(), cmap='magma')\n",
    "\n",
    "density_contour(rn[:,0], rn[:,1], 80, 80, ax=ax[0], colors=['white'])\n",
    "\n",
    "# Add Bar particles as a scatter \n",
    "\n",
    "\n",
    "#set axis limits\n",
    "ax[0].set_ylim(-30,30)\n",
    "ax[0].set_xlim(-30,30)  \n",
    "\n",
    "# Add axis labels\n",
    "ax[0].set_xlabel('x (kpc)', fontsize=25)\n",
    "ax[0].set_ylabel('y (kpc)', fontsize=25)\n",
    "\n",
    "# Add Title \n",
    "ax[0].set_title('Snapshot 0', fontsize=25)\n",
    "\n",
    "\n",
    "# Snapshot 5 \n",
    "\n",
    "# plot galaxy in snapshot 5\n",
    "\n",
    "# overplot Bar particles identified in Snap 0 \n",
    "\n",
    "\n",
    "# Set axis limits\n",
    "ax[1].set_xlim(-30,30)\n",
    "ax[1].set_ylim(-30,30)\n",
    "\n",
    "ax[1].set_title('Snapshot 5', fontsize=25)\n",
    "\n",
    "\n",
    "# Add axis labels\n",
    "ax[1].set_xlabel('x (kpc)', fontsize=25)\n",
    "ax[1].set_ylabel('y (kpc)', fontsize=25)\n",
    "\n",
    "#plt.savefig('Lab9_FaceOn_Snap0vsSnap5.png')\n"
   ]
  },
  {
   "cell_type": "markdown",
   "metadata": {},
   "source": [
    "# Part E:  Velocity Dispersion and Msigma"
   ]
  },
  {
   "cell_type": "code",
   "execution_count": null,
   "metadata": {},
   "outputs": [],
   "source": [
    "# Load Bulge Particles\n",
    "\n"
   ]
  },
  {
   "cell_type": "code",
   "execution_count": null,
   "metadata": {},
   "outputs": [],
   "source": [
    "# Determine positions of bulge particles relative to COM from DISK\n",
    "xB = COMB.x - COMP[0].value \n",
    "yB = COMB.y - COMP[1].value \n",
    "zB = COMB.z - COMP[2].value \n",
    "\n",
    "# total magnitude\n",
    "rtotB = np.sqrt(xB**2 + yB**2 + zB**2)\n",
    "\n",
    "# Determine velocities of bulge particles relatiev to COM motion\n",
    "vxB = COMB.vx - COMV[0].value \n",
    "vyB = COMB.vy - COMV[1].value \n",
    "vzB = COMB.vz - COMV[2].value \n",
    "\n",
    "# total velocity \n",
    "vtotB = np.sqrt(vxB**2 + vyB**2 + vzB**2)\n",
    "\n",
    "# Arrays for r and v \n",
    "rB = np.array([xB,yB,zB]).T # transposed for the Rotate Function later\n",
    "vB = np.array([vxB,vyB,vzB]).T"
   ]
  },
  {
   "cell_type": "code",
   "execution_count": null,
   "metadata": {},
   "outputs": [],
   "source": [
    "# compute the rotated position and velocity vectors\n"
   ]
  },
  {
   "cell_type": "code",
   "execution_count": null,
   "metadata": {},
   "outputs": [],
   "source": [
    "# Make a phase diagram for the bulge\n",
    "\n",
    "fig = plt.figure(figsize=(10,10))\n",
    "ax = plt.subplot(111)\n",
    "\n",
    "# looking at M31 edge on along x axis, vy is line of sight velocity\n",
    "\n",
    "\n",
    "\n",
    "# Add axis labels\n",
    "plt.xlabel('x (kpc)', fontsize=22)\n",
    "plt.ylabel('Velocity Y Direction (km/s)', fontsize=22)\n",
    "\n",
    "#set axis limits\n",
    "#plt.ylim(0,200)\n",
    "#plt.xlim(-30,30)\n",
    "\n",
    "#adjust tick label font size\n",
    "label_size = 22\n",
    "matplotlib.rcParams['xtick.labelsize'] = label_size \n",
    "matplotlib.rcParams['ytick.labelsize'] = label_size\n",
    "\n",
    "#plt.savefig('Lab9_BulgePhaseDiagram.png')\n"
   ]
  },
  {
   "cell_type": "code",
   "execution_count": null,
   "metadata": {},
   "outputs": [],
   "source": [
    "# average velocity of bulge (within 5 kpc) \n",
    "\n",
    "# Standard Deviation. ( 1 sigma)\n",
    "\n"
   ]
  },
  {
   "cell_type": "markdown",
   "metadata": {},
   "source": [
    "# M-$\\sigma$\n",
    "- create a function that defines the  M-$\\sigma$ relation, from  Kormendy & Ho 2013 (eqn 7)\n",
    "\n",
    "$\\left (\\frac{M_{BH}}{10^9 M_\\odot} \\right ) = \\alpha \\left( \\frac{\\sigma}{\\sigma_0}\\right)^\\beta $  \n",
    "\n",
    "$\\alpha$ =  0.309, \n",
    "$\\beta$ = 4.38, \n",
    "$\\sigma_0$ = 200 km/s\n",
    "\n",
    "\n",
    "Comparing to the Simulation:\n",
    "\n",
    "- What mass black hole would you expect from the simulation data? How does this compare to the mass of the SMBH in the real M31 (5-23$\\times 10^7$ M$_\\odot$)\n"
   ]
  },
  {
   "cell_type": "code",
   "execution_count": null,
   "metadata": {},
   "outputs": [],
   "source": [
    "def Msigma(sigma):\n",
    "    \"\"\" Black Hole Mass - Bulge velocity dispersion Relation, \n",
    "    Kormendy & Ho 2013 eqn 7  \n",
    "    \n",
    "    PARAMETERS\n",
    "    ----------\n",
    "        sigma: 'float' \n",
    "            the velocity dispersion of the bulge (km/s)\n",
    "    \n",
    "    OUTPUT:\n",
    "    -------\n",
    "        mass:  'float'\n",
    "             The Black Hole Mass in Msun\n",
    "    \"\"\"\n",
    "    \n",
    "  \n",
    "    return mass"
   ]
  },
  {
   "cell_type": "code",
   "execution_count": null,
   "metadata": {},
   "outputs": [],
   "source": []
  },
  {
   "cell_type": "code",
   "execution_count": null,
   "metadata": {},
   "outputs": [],
   "source": []
  }
 ],
 "metadata": {
  "kernelspec": {
   "display_name": "Python 3 (ipykernel)",
   "language": "python",
   "name": "python3"
  },
  "language_info": {
   "codemirror_mode": {
    "name": "ipython",
    "version": 3
   },
   "file_extension": ".py",
   "mimetype": "text/x-python",
   "name": "python",
   "nbconvert_exporter": "python",
   "pygments_lexer": "ipython3",
   "version": "3.12.4"
  }
 },
 "nbformat": 4,
 "nbformat_minor": 4
}
