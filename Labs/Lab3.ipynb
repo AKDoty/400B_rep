{
 "cells": [
  {
   "cell_type": "markdown",
   "metadata": {},
   "source": [
    "# In Class Lab 3\n"
   ]
  },
  {
   "cell_type": "code",
   "execution_count": 2,
   "metadata": {},
   "outputs": [],
   "source": [
    "#In Class Lab 3 Template\n",
    "# G Besla ASTR 400B\n",
    "\n",
    "# Load Modules\n",
    "import numpy as np\n",
    "import astropy.units as u\n",
    "\n",
    "# import plotting modules\n",
    "import matplotlib.pyplot as plt\n",
    "import matplotlib\n",
    "%matplotlib inline\n"
   ]
  },
  {
   "cell_type": "markdown",
   "metadata": {},
   "source": [
    "The Figure illustrates the color magnitude diagram (CMD) for the Carina Dwarf along with the interpreted \n",
    "star formation history from isochrone fitting to the CMD.\n",
    "The image is from Tolstoy+2009 ARA&A 47 review paper about dwarf galaxies\n",
    "\n",
    "![Iso](./Lab3_Isochrones.png)\n"
   ]
  },
  {
   "cell_type": "markdown",
   "metadata": {},
   "source": [
    "# This Lab:\n",
    "\n",
    "Modify the template file of your choice to plot isochrones that correspond to the inferred star formation episodes (right panel of Figure 1) to recreate the dominant features of the CMD of Carina (left panel of Figure 1). "
   ]
  },
  {
   "cell_type": "code",
   "execution_count": 5,
   "metadata": {},
   "outputs": [],
   "source": [
    "# Some Notes about the Isochrone Data\n",
    "# DATA From   \n",
    "# http://stellar.dartmouth.edu/models/isolf_new.html\n",
    "# files have been modified from download.  \n",
    "# ( M/Mo --> M;   Log L/Lo --> L)\n",
    "# removed #'s from all lines except column heading\n",
    "# NOTE SETTINGS USED:  \n",
    "# Y = 0.245 default   [Fe/H] = -2.0  alpha/Fe = -0.2\n",
    "# These could all be changed and it would generate \n",
    "# a different isochrone\n"
   ]
  },
  {
   "cell_type": "code",
   "execution_count": 6,
   "metadata": {},
   "outputs": [],
   "source": [
    "\n",
    "# Filename for data with Isochrone fit for 1 Gyr\n",
    "# These files are located in the folder IsochroneData\n",
    "filename1=\"./IsochroneData/Isochrone1.txt\"\n",
    "    #1 = 1 billion years\n",
    "#\"Reading in ages backwards\" -> first burst of star formation happened around '5'\n",
    "#age = 0 means Big Bang (13.7 y/ago), x-axis is backwards"
   ]
  },
  {
   "cell_type": "code",
   "execution_count": 7,
   "metadata": {},
   "outputs": [
    {
     "ename": "FileNotFoundError",
     "evalue": "./IsochroneData/Isochrone1.txt not found.",
     "output_type": "error",
     "traceback": [
      "\u001b[0;31m---------------------------------------------------------------------------\u001b[0m",
      "\u001b[0;31mFileNotFoundError\u001b[0m                         Traceback (most recent call last)",
      "Cell \u001b[0;32mIn[7], line 8\u001b[0m\n\u001b[1;32m      1\u001b[0m \u001b[38;5;66;03m# READ IN DATA\u001b[39;00m\n\u001b[1;32m      2\u001b[0m \u001b[38;5;66;03m# \"dtype=None\" means line is split using white spaces\u001b[39;00m\n\u001b[1;32m      3\u001b[0m \u001b[38;5;66;03m# \"skip_header=8\"  skipping the first 8 lines \u001b[39;00m\n\u001b[0;32m   (...)\u001b[0m\n\u001b[1;32m      6\u001b[0m \n\u001b[1;32m      7\u001b[0m \u001b[38;5;66;03m# Read in data for an isochrone corresponding to 1 Gyr\u001b[39;00m\n\u001b[0;32m----> 8\u001b[0m data1 \u001b[38;5;241m=\u001b[39m np\u001b[38;5;241m.\u001b[39mgenfromtxt(filename1,dtype\u001b[38;5;241m=\u001b[39m\u001b[38;5;28;01mNone\u001b[39;00m,\n\u001b[1;32m      9\u001b[0m                       names\u001b[38;5;241m=\u001b[39m\u001b[38;5;28;01mTrue\u001b[39;00m,skip_header\u001b[38;5;241m=\u001b[39m\u001b[38;5;241m8\u001b[39m)\n",
      "File \u001b[0;32m/opt/anaconda3/lib/python3.12/site-packages/numpy/lib/npyio.py:1980\u001b[0m, in \u001b[0;36mgenfromtxt\u001b[0;34m(fname, dtype, comments, delimiter, skip_header, skip_footer, converters, missing_values, filling_values, usecols, names, excludelist, deletechars, replace_space, autostrip, case_sensitive, defaultfmt, unpack, usemask, loose, invalid_raise, max_rows, encoding, ndmin, like)\u001b[0m\n\u001b[1;32m   1978\u001b[0m     fname \u001b[38;5;241m=\u001b[39m os_fspath(fname)\n\u001b[1;32m   1979\u001b[0m \u001b[38;5;28;01mif\u001b[39;00m \u001b[38;5;28misinstance\u001b[39m(fname, \u001b[38;5;28mstr\u001b[39m):\n\u001b[0;32m-> 1980\u001b[0m     fid \u001b[38;5;241m=\u001b[39m np\u001b[38;5;241m.\u001b[39mlib\u001b[38;5;241m.\u001b[39m_datasource\u001b[38;5;241m.\u001b[39mopen(fname, \u001b[38;5;124m'\u001b[39m\u001b[38;5;124mrt\u001b[39m\u001b[38;5;124m'\u001b[39m, encoding\u001b[38;5;241m=\u001b[39mencoding)\n\u001b[1;32m   1981\u001b[0m     fid_ctx \u001b[38;5;241m=\u001b[39m contextlib\u001b[38;5;241m.\u001b[39mclosing(fid)\n\u001b[1;32m   1982\u001b[0m \u001b[38;5;28;01melse\u001b[39;00m:\n",
      "File \u001b[0;32m/opt/anaconda3/lib/python3.12/site-packages/numpy/lib/_datasource.py:193\u001b[0m, in \u001b[0;36mopen\u001b[0;34m(path, mode, destpath, encoding, newline)\u001b[0m\n\u001b[1;32m    156\u001b[0m \u001b[38;5;250m\u001b[39m\u001b[38;5;124;03m\"\"\"\u001b[39;00m\n\u001b[1;32m    157\u001b[0m \u001b[38;5;124;03mOpen `path` with `mode` and return the file object.\u001b[39;00m\n\u001b[1;32m    158\u001b[0m \n\u001b[0;32m   (...)\u001b[0m\n\u001b[1;32m    189\u001b[0m \n\u001b[1;32m    190\u001b[0m \u001b[38;5;124;03m\"\"\"\u001b[39;00m\n\u001b[1;32m    192\u001b[0m ds \u001b[38;5;241m=\u001b[39m DataSource(destpath)\n\u001b[0;32m--> 193\u001b[0m \u001b[38;5;28;01mreturn\u001b[39;00m ds\u001b[38;5;241m.\u001b[39mopen(path, mode, encoding\u001b[38;5;241m=\u001b[39mencoding, newline\u001b[38;5;241m=\u001b[39mnewline)\n",
      "File \u001b[0;32m/opt/anaconda3/lib/python3.12/site-packages/numpy/lib/_datasource.py:533\u001b[0m, in \u001b[0;36mDataSource.open\u001b[0;34m(self, path, mode, encoding, newline)\u001b[0m\n\u001b[1;32m    530\u001b[0m     \u001b[38;5;28;01mreturn\u001b[39;00m _file_openers[ext](found, mode\u001b[38;5;241m=\u001b[39mmode,\n\u001b[1;32m    531\u001b[0m                               encoding\u001b[38;5;241m=\u001b[39mencoding, newline\u001b[38;5;241m=\u001b[39mnewline)\n\u001b[1;32m    532\u001b[0m \u001b[38;5;28;01melse\u001b[39;00m:\n\u001b[0;32m--> 533\u001b[0m     \u001b[38;5;28;01mraise\u001b[39;00m \u001b[38;5;167;01mFileNotFoundError\u001b[39;00m(\u001b[38;5;124mf\u001b[39m\u001b[38;5;124m\"\u001b[39m\u001b[38;5;132;01m{\u001b[39;00mpath\u001b[38;5;132;01m}\u001b[39;00m\u001b[38;5;124m not found.\u001b[39m\u001b[38;5;124m\"\u001b[39m)\n",
      "\u001b[0;31mFileNotFoundError\u001b[0m: ./IsochroneData/Isochrone1.txt not found."
     ]
    }
   ],
   "source": [
    "# READ IN DATA\n",
    "# \"dtype=None\" means line is split using white spaces\n",
    "# \"skip_header=8\"  skipping the first 8 lines \n",
    "# the flag \"names=True\" creates arrays to store the date\n",
    "#       with the column headers given in line 8 \n",
    "\n",
    "# Read in data for an isochrone corresponding to 1 Gyr\n",
    "data1 = np.genfromtxt(filename1,dtype=None,\n",
    "                      names=True,skip_header=8)"
   ]
  },
  {
   "cell_type": "code",
   "execution_count": null,
   "metadata": {},
   "outputs": [],
   "source": [
    "#major peak\n",
    "filename11 = './IsochroneData/Isochrone11.txt'\n",
    "#11Gyr in age\n",
    "filename10 = './IsochroneData/Isochrone10.txt'\n",
    "#10Gyr in age\n",
    "\n",
    "data10 = np.genfromtxt(filename10,dtype=None,\n",
    "                      names=True,skip_header=8)\n",
    "data11 = np.genfromtxt(filename11,dtype=None,\n",
    "                      names=True,skip_header=8)"
   ]
  },
  {
   "cell_type": "code",
   "execution_count": null,
   "metadata": {},
   "outputs": [],
   "source": [
    "#next peak\n",
    "\n",
    "filename6 = './IsochroneData/Isochrone6.txt'\n",
    "filename7 = './IsochroneData/Isochrone7.txt'\n",
    "data6 = np.genfromtxt(filename6,dtype=None,\n",
    "                      names=True,skip_header=8)\n",
    "data7 = np.genfromtxt(filename7,dtype=None,\n",
    "                      names=True,skip_header=8)"
   ]
  },
  {
   "cell_type": "code",
   "execution_count": 10,
   "metadata": {},
   "outputs": [
    {
     "ename": "NameError",
     "evalue": "name 'data1' is not defined",
     "output_type": "error",
     "traceback": [
      "\u001b[0;31m---------------------------------------------------------------------------\u001b[0m",
      "\u001b[0;31mNameError\u001b[0m                                 Traceback (most recent call last)",
      "Cell \u001b[0;32mIn[10], line 11\u001b[0m\n\u001b[1;32m      5\u001b[0m ax \u001b[38;5;241m=\u001b[39m plt\u001b[38;5;241m.\u001b[39msubplot(\u001b[38;5;241m111\u001b[39m)\n\u001b[1;32m      7\u001b[0m \u001b[38;5;66;03m# Plot Isochrones\u001b[39;00m\n\u001b[1;32m      8\u001b[0m \n\u001b[1;32m      9\u001b[0m \u001b[38;5;66;03m# Isochrone for 1 Gyr\u001b[39;00m\n\u001b[1;32m     10\u001b[0m \u001b[38;5;66;03m# Plotting Color vs. Difference in Color \u001b[39;00m\n\u001b[0;32m---> 11\u001b[0m plt\u001b[38;5;241m.\u001b[39mplot(data1[\u001b[38;5;124m'\u001b[39m\u001b[38;5;124mB\u001b[39m\u001b[38;5;124m'\u001b[39m]\u001b[38;5;241m-\u001b[39mdata1[\u001b[38;5;124m'\u001b[39m\u001b[38;5;124mR\u001b[39m\u001b[38;5;124m'\u001b[39m], data1[\u001b[38;5;124m'\u001b[39m\u001b[38;5;124mR\u001b[39m\u001b[38;5;124m'\u001b[39m], color\u001b[38;5;241m=\u001b[39m\u001b[38;5;124m'\u001b[39m\u001b[38;5;124mblue\u001b[39m\u001b[38;5;124m'\u001b[39m, \n\u001b[1;32m     12\u001b[0m          linewidth\u001b[38;5;241m=\u001b[39m\u001b[38;5;241m5\u001b[39m, label\u001b[38;5;241m=\u001b[39m\u001b[38;5;124m'\u001b[39m\u001b[38;5;124m1 Gyr\u001b[39m\u001b[38;5;124m'\u001b[39m)\n\u001b[1;32m     13\u001b[0m \u001b[38;5;66;03m###EDIT Here, following the same format as the line above \u001b[39;00m\n\u001b[1;32m     14\u001b[0m \n\u001b[1;32m     15\u001b[0m \n\u001b[1;32m     16\u001b[0m \n\u001b[1;32m     17\u001b[0m \u001b[38;5;66;03m# Add axis labels\u001b[39;00m\n\u001b[1;32m     18\u001b[0m plt\u001b[38;5;241m.\u001b[39mxlabel(\u001b[38;5;124m'\u001b[39m\u001b[38;5;124mB-R\u001b[39m\u001b[38;5;124m'\u001b[39m, fontsize\u001b[38;5;241m=\u001b[39m\u001b[38;5;241m22\u001b[39m)\n",
      "\u001b[0;31mNameError\u001b[0m: name 'data1' is not defined"
     ]
    }
   ],
   "source": [
    "# Plot Isochrones \n",
    "# For Carina\n",
    "\n",
    "fig = plt.figure(figsize=(10,10))\n",
    "ax = plt.subplot(111)\n",
    "\n",
    "# Plot Isochrones\n",
    "\n",
    "# Isochrone for 1 Gyr\n",
    "# Plotting Color vs. Difference in Color \n",
    "plt.plot(data1['B']-data1['R'], data1['R'], color='blue', \n",
    "         linewidth=5, label='1 Gyr')\n",
    "###EDIT Here, following the same format as the line above \n",
    "plt.plot(data10['B']-data10['R'], data10['R'], color='red', \n",
    "         linewidth=5, label='10 Gyr')\n",
    "plt.plot(data11['B']-data11['R'], data11['R'], color='green', \n",
    "         linewidth=5, label='11 Gyr')\n",
    "plt.plot(data6['B']-data6['R'], data6['R'], color='orange', \n",
    "         linewidth=5, label='6 Gyr')\n",
    "plt.plot(data7['B']-data7['R'], data7['R'], color='black', \n",
    "         linewidth=5, label='7 Gyr')\n",
    "\n",
    "\n",
    "# Add axis labels\n",
    "plt.xlabel('B-R', fontsize=22)\n",
    "plt.ylabel('M$_R$', fontsize=22)\n",
    "\n",
    "#set axis limits\n",
    "plt.xlim(-0.5,2)\n",
    "plt.ylim(5,-2.5)\n",
    "\n",
    "#adjust tick label font size\n",
    "label_size = 22\n",
    "matplotlib.rcParams['xtick.labelsize'] = label_size \n",
    "matplotlib.rcParams['ytick.labelsize'] = label_size\n",
    "\n",
    "# add a legend with some customizations.\n",
    "legend = ax.legend(loc='upper left',fontsize='x-large')\n",
    "\n",
    "#add figure text\n",
    "plt.figtext(0.5, 0.15, 'CMD for Carina dSph', fontsize=22)\n",
    "\n",
    "plt.savefig('IsochroneCarina.png')\n"
   ]
  },
  {
   "cell_type": "markdown",
   "metadata": {
    "collapsed": true,
    "jupyter": {
     "outputs_hidden": true
    }
   },
   "source": [
    "# Q2\n",
    "\n",
    "Could there be younger ages than suggested in the Tolstoy plot?\n",
    "Try adding younger isochrones to the above plot.\n",
    "\n",
    "# Q3\n",
    "\n",
    "What do you think might cause the bursts of star formation?\n"
   ]
  },
  {
   "cell_type": "code",
   "execution_count": null,
   "metadata": {
    "collapsed": true,
    "jupyter": {
     "outputs_hidden": true
    }
   },
   "outputs": [],
   "source": [
    "'''\n",
    "It could be possible, but because we don't have data for it we can't be sure. \n",
    "'''"
   ]
  },
  {
   "cell_type": "code",
   "execution_count": null,
   "metadata": {},
   "outputs": [],
   "source": [
    "'''\n",
    "Potentially a galaxy merger, would add extra gas and increase star formation. \n",
    "Gas needs to be cold for stars to form ?! Gas needs to be condensed. Temperature of 10 K or less!!! Insane\n",
    "Gravitational energy must overcome kinetic energy for stars to form. \n",
    "Gravitational instability in the disk. Old stars dying and going supernova, that energy helps create new stars. \n",
    "'''"
   ]
  }
 ],
 "metadata": {
  "kernelspec": {
   "display_name": "Python 3 (ipykernel)",
   "language": "python",
   "name": "python3"
  },
  "language_info": {
   "codemirror_mode": {
    "name": "ipython",
    "version": 3
   },
   "file_extension": ".py",
   "mimetype": "text/x-python",
   "name": "python",
   "nbconvert_exporter": "python",
   "pygments_lexer": "ipython3",
   "version": "3.12.4"
  }
 },
 "nbformat": 4,
 "nbformat_minor": 4
}
